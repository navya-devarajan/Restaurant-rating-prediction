{
 "cells": [
  {
   "cell_type": "code",
   "execution_count": null,
   "id": "aa0e679b",
   "metadata": {},
   "outputs": [],
   "source": [
    "import pandas as pd\n",
    "from sklearn.model_selection import train_test_split\n",
    "from sklearn.linear_model import LinearRegression\n",
    "from sklearn.preprocessing import OneHotEncoder\n",
    "from sklearn.preprocessing import MinMaxScaler"
   ]
  },
  {
   "cell_type": "code",
   "execution_count": null,
   "id": "57fd348f",
   "metadata": {},
   "outputs": [],
   "source": [
    "df = pd.read_csv(\"Dataset .csv\")\n",
    "df.shape"
   ]
  },
  {
   "cell_type": "code",
   "execution_count": null,
   "id": "a5649523",
   "metadata": {
    "scrolled": true
   },
   "outputs": [],
   "source": [
    "df.head()"
   ]
  },
  {
   "cell_type": "code",
   "execution_count": null,
   "id": "a4aeee74",
   "metadata": {},
   "outputs": [],
   "source": [
    "df.info()"
   ]
  },
  {
   "cell_type": "code",
   "execution_count": null,
   "id": "4f907639",
   "metadata": {},
   "outputs": [],
   "source": [
    "df.describe()"
   ]
  },
  {
   "cell_type": "code",
   "execution_count": null,
   "id": "6ea53f3a",
   "metadata": {},
   "outputs": [],
   "source": [
    "df.describe(include='object')"
   ]
  },
  {
   "cell_type": "code",
   "execution_count": null,
   "id": "483865a1",
   "metadata": {},
   "outputs": [],
   "source": [
    "a = [1,2,3]\n",
    "b=[4,5,6]\n",
    "a+b"
   ]
  },
  {
   "cell_type": "code",
   "execution_count": null,
   "id": "4edc40c1",
   "metadata": {},
   "outputs": [],
   "source": [
    "numeric_feature_columns = [\"Longitude\", \"Latitude\", \"Average Cost for two\", \"Price range\"]\n",
    "categorical_feature_columns = [\"Currency\", \"Has Table booking\", \"Has Online delivery\", \"Is delivering now\", \"Switch to order menu\"]\n",
    "\n",
    "feature_columns = numeric_feature_columns + categorical_feature_columns\n",
    "feature_columns\n",
    "\n",
    "target_column = 'Aggregate rating'"
   ]
  },
  {
   "cell_type": "code",
   "execution_count": null,
   "id": "d712ed5f",
   "metadata": {},
   "outputs": [],
   "source": [
    "# X = df[feature_columns]\n",
    "X1 = pd.get_dummies(data=df[feature_columns], columns=categorical_feature_columns)\n",
    "scaler = MinMaxScaler()\n",
    "X = scaler.fit_transform(X1)\n",
    "y = df[target_column]"
   ]
  },
  {
   "cell_type": "code",
   "execution_count": null,
   "id": "ca32fef1",
   "metadata": {},
   "outputs": [],
   "source": [
    "X"
   ]
  },
  {
   "cell_type": "code",
   "execution_count": null,
   "id": "e27f6815",
   "metadata": {
    "scrolled": true
   },
   "outputs": [],
   "source": [
    "df.loc[1000:1001, :]\n"
   ]
  },
  {
   "cell_type": "code",
   "execution_count": null,
   "id": "c0c44ce8",
   "metadata": {},
   "outputs": [],
   "source": [
    "X1.loc[1000:1001, :]"
   ]
  },
  {
   "cell_type": "code",
   "execution_count": null,
   "id": "baa40320",
   "metadata": {
    "scrolled": true
   },
   "outputs": [],
   "source": [
    "X_train, X_test, y_train, y_test = train_test_split(X, y, test_size=0.30, random_state=1)\n",
    "print(X_train.shape)\n",
    "print(X_test.shape)\n",
    "print(y_train.shape)\n",
    "print(y_test.shape)\n"
   ]
  },
  {
   "cell_type": "code",
   "execution_count": null,
   "id": "c22e7eb9",
   "metadata": {},
   "outputs": [],
   "source": [
    "regressor = LinearRegression() \n",
    "regressor.fit(X_train, y_train)\n"
   ]
  },
  {
   "cell_type": "code",
   "execution_count": null,
   "id": "e3ebd15d",
   "metadata": {},
   "outputs": [],
   "source": [
    "y_train_pred = regressor.predict(X_train)\n",
    "y_train_pred"
   ]
  },
  {
   "cell_type": "code",
   "execution_count": null,
   "id": "56b95b0b",
   "metadata": {},
   "outputs": [],
   "source": [
    "X_train.shape, y_train_pred.shape, y_train.shape"
   ]
  },
  {
   "cell_type": "code",
   "execution_count": null,
   "id": "71d579e7",
   "metadata": {},
   "outputs": [],
   "source": [
    "y_pred = regressor.predict(X_test)\n",
    "y_pred"
   ]
  },
  {
   "cell_type": "code",
   "execution_count": null,
   "id": "41feea44",
   "metadata": {},
   "outputs": [],
   "source": [
    "comparison_df = pd.DataFrame({\"Actual\":y_test,\"Predicted\":y_pred, \"Residuals\": y_test - y_pred})\n",
    "\n",
    "\n",
    "comparison_df"
   ]
  },
  {
   "cell_type": "code",
   "execution_count": null,
   "id": "aa40825d",
   "metadata": {},
   "outputs": [],
   "source": [
    "import seaborn as sns\n",
    "import matplotlib.pyplot as plt\n",
    "sns.scatterplot(x=y_test, y = y_pred, s=140)\n",
    "plt.xlabel('y_test data')\n",
    "plt.ylabel('Predictions')"
   ]
  },
  {
   "cell_type": "code",
   "execution_count": null,
   "id": "34b2c0ac",
   "metadata": {},
   "outputs": [],
   "source": [
    "from sklearn.metrics import mean_absolute_error, mean_squared_error\n",
    "import numpy as np\n",
    "print('MAE:', mean_absolute_error(y_test,y_pred))\n",
    "print(\"MSE\",mean_squared_error(y_test,y_pred))\n",
    "print(\"RMSE\",np.sqrt(mean_squared_error(y_test,y_pred)))\n"
   ]
  },
  {
   "cell_type": "code",
   "execution_count": null,
   "id": "71e5e85c",
   "metadata": {
    "scrolled": true
   },
   "outputs": [],
   "source": [
    "from sklearn.metrics import r2_score\n",
    "r2 = r2_score(y_test,y_pred)\n",
    "print(r2)"
   ]
  },
  {
   "cell_type": "code",
   "execution_count": null,
   "id": "8e78bae4",
   "metadata": {},
   "outputs": [],
   "source": [
    "X.shape"
   ]
  },
  {
   "cell_type": "code",
   "execution_count": null,
   "id": "9c77abdd",
   "metadata": {},
   "outputs": [],
   "source": [
    "regressor.coef_"
   ]
  },
  {
   "cell_type": "code",
   "execution_count": null,
   "id": "d4357509",
   "metadata": {
    "scrolled": true
   },
   "outputs": [],
   "source": [
    "importance = regressor.coef_\n",
    "# summarize feature importance\\\n",
    "importance_df = pd.DataFrame(data=importance, index=X1.columns, columns=['importance'])\n",
    "importance_df['abs_importance'] = abs(importance_df['importance'])\n",
    "importance_df = importance_df.sort_values(by='abs_importance', ascending=False)\n",
    "print(importance_df)\n",
    "\n",
    "# plot feature importance\n",
    "plt.bar([x for x in range(len(importance_df))], importance_df['abs_importance'])\n",
    "plt.xlabel(feature_columns)\n",
    "plt.show()"
   ]
  },
  {
   "cell_type": "code",
   "execution_count": null,
   "id": "872c34df",
   "metadata": {},
   "outputs": [],
   "source": [
    "%%time\n",
    "from sklearn.linear_model import LinearRegression\n",
    "from sklearn.tree import DecisionTreeRegressor\n",
    "from sklearn.svm import SVR\n",
    "from sklearn.ensemble import RandomForestRegressor\n",
    "\n",
    "from sklearn import model_selection\n",
    "# prepare configuration for cross validation test harness\n",
    "seed = 7\n",
    "# prepare models\n",
    "models = []\n",
    "models.append(('LR', LinearRegression()))\n",
    "models.append(('DecisionTree', DecisionTreeRegressor()))\n",
    "models.append(('SVR', SVR()))\n",
    "models.append(('RandomForest', RandomForestRegressor()))\n",
    "\n",
    "# evaluate each model in turn\n",
    "results = []\n",
    "names = []\n",
    "scoring = 'r2'\n",
    "for name, model in models:\n",
    " kfold = model_selection.KFold(n_splits=10, random_state=seed, shuffle=True)\n",
    " cv_results = model_selection.cross_val_score(model, X, y, cv=kfold, scoring=scoring)\n",
    " results.append(cv_results)\n",
    " names.append(name)\n",
    " msg = \"%s: %f (%f)\" % (name, cv_results.mean(), cv_results.std())\n",
    " print(msg)\n",
    "# boxplot algorithm comparison\n",
    "fig = plt.figure()\n",
    "fig.suptitle('Algorithm Comparison')\n",
    "ax = fig.add_subplot(111)\n",
    "plt.boxplot(results)\n",
    "ax.set_xticklabels(names)\n",
    "plt.show()"
   ]
  },
  {
   "cell_type": "code",
   "execution_count": null,
   "id": "06802656",
   "metadata": {},
   "outputs": [],
   "source": [
    "# boxplot algorithm comparison\n",
    "fig = plt.figure()\n",
    "fig.suptitle('Algorithm Comparison')\n",
    "#ax = fig.add_subplot(111)\n",
    "plt.boxplot(results)\n",
    "ax.set_xticklabels(names)\n",
    "plt.show()"
   ]
  },
  {
   "cell_type": "code",
   "execution_count": null,
   "id": "64206746",
   "metadata": {},
   "outputs": [],
   "source": [
    "import seaborn as sns\n",
    "sns.boxplot(data=results)"
   ]
  },
  {
   "cell_type": "code",
   "execution_count": null,
   "id": "721a74b6",
   "metadata": {},
   "outputs": [],
   "source": []
  }
 ],
 "metadata": {
  "kernelspec": {
   "display_name": "Python 3 (ipykernel)",
   "language": "python",
   "name": "python3"
  },
  "language_info": {
   "codemirror_mode": {
    "name": "ipython",
    "version": 3
   },
   "file_extension": ".py",
   "mimetype": "text/x-python",
   "name": "python",
   "nbconvert_exporter": "python",
   "pygments_lexer": "ipython3",
   "version": "3.9.7"
  }
 },
 "nbformat": 4,
 "nbformat_minor": 5
}
